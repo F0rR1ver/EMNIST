{
 "cells": [
  {
   "cell_type": "code",
   "execution_count": 47,
   "id": "7a8a3a67-f59c-470a-8369-c6fd4ab1dfe1",
   "metadata": {},
   "outputs": [
    {
     "name": "stdout",
     "output_type": "stream",
     "text": [
      "Requirement already satisfied: scikeras in d:\\anaconda\\envs\\myenv\\lib\\site-packages (0.12.0)\n",
      "Requirement already satisfied: packaging>=0.21 in d:\\anaconda\\envs\\myenv\\lib\\site-packages (from scikeras) (24.1)\n",
      "Requirement already satisfied: scikit-learn>=1.0.0 in d:\\anaconda\\envs\\myenv\\lib\\site-packages (from scikeras) (1.3.0)\n",
      "Requirement already satisfied: tensorflow-io-gcs-filesystem<0.32,>=0.23.1 in d:\\anaconda\\envs\\myenv\\lib\\site-packages (from scikeras) (0.31.0)\n",
      "Requirement already satisfied: numpy>=1.17.3 in d:\\anaconda\\envs\\myenv\\lib\\site-packages (from scikit-learn>=1.0.0->scikeras) (1.24.3)\n",
      "Requirement already satisfied: scipy>=1.5.0 in d:\\anaconda\\envs\\myenv\\lib\\site-packages (from scikit-learn>=1.0.0->scikeras) (1.10.1)\n",
      "Requirement already satisfied: joblib>=1.1.1 in d:\\anaconda\\envs\\myenv\\lib\\site-packages (from scikit-learn>=1.0.0->scikeras) (1.4.2)\n",
      "Requirement already satisfied: threadpoolctl>=2.0.0 in d:\\anaconda\\envs\\myenv\\lib\\site-packages (from scikit-learn>=1.0.0->scikeras) (3.5.0)\n",
      "Note: you may need to restart the kernel to use updated packages.\n"
     ]
    }
   ],
   "source": [
    "pip install scikeras"
   ]
  },
  {
   "cell_type": "code",
   "execution_count": 48,
   "id": "987daa76-50ae-4b76-8205-1992591f8446",
   "metadata": {},
   "outputs": [
    {
     "name": "stdout",
     "output_type": "stream",
     "text": [
      "Num GPUs Available:  0\n",
      "NumPy version: 1.24.3\n",
      "Pandas version: 2.0.3\n",
      "Matplotlib version: 3.7.2\n",
      "Keras version: 2.10.0\n"
     ]
    }
   ],
   "source": [
    "import pickle\n",
    "import tensorflow as tf\n",
    "import numpy as np\n",
    "import pandas as pd\n",
    "import matplotlib.pyplot as plt\n",
    "from tensorflow.keras.models import Sequential\n",
    "from tensorflow.keras.layers import Input, LSTM, Dense, Dropout, BatchNormalization\n",
    "from tensorflow.keras.utils import to_categorical\n",
    "from tensorflow.keras.optimizers import Adam\n",
    "from tensorflow.keras.applications import EfficientNetB0\n",
    "from tensorflow.keras.preprocessing.image import ImageDataGenerator\n",
    "from sklearn.model_selection import train_test_split\n",
    "from sklearn.model_selection import GridSearchCV\n",
    "from sklearn.metrics import classification_report, confusion_matrix, accuracy_score\n",
    "from scikeras.wrappers import KerasClassifier\n",
    "# from tensorflow.keras.wrappers.scikit_learn import KerasClassifier\n",
    "\n",
    "# Version information\n",
    "print(\"Num GPUs Available: \", len(tf.config.experimental.list_physical_devices('GPU')))\n",
    "print(\"NumPy version:\", np.__version__)\n",
    "print(\"Pandas version:\", pd.__version__)\n",
    "print(\"Matplotlib version:\", plt.matplotlib.__version__)\n",
    "print(\"Keras version:\", tf.keras.__version__)"
   ]
  },
  {
   "cell_type": "code",
   "execution_count": 81,
   "id": "f9cb9ee9-1f59-4776-99cb-365cde2ccb7b",
   "metadata": {},
   "outputs": [],
   "source": [
    "# Data loading, pre-processing, and exploration\n",
    "\n",
    "# Load the dataset\n",
    "with open('data/emnist_train.pkl', 'rb') as f:\n",
    "    train_data = pickle.load(f)\n",
    "with open('data/emnist_test.pkl', 'rb') as f:\n",
    "    test_data = pickle.load(f)\n",
    "\n",
    "X_train = train_data['data']\n",
    "y_train = train_data['labels']\n",
    "\n",
    "X_test = test_data['data']\n",
    "y_test = test_data['labels']"
   ]
  },
  {
   "cell_type": "code",
   "execution_count": 83,
   "id": "827651a2-a739-4c2f-8dcc-d68e3e7114c1",
   "metadata": {},
   "outputs": [],
   "source": [
    "# Reshape the data\n",
    "X_train = X_train.reshape(-1, 28, 28, 1)\n",
    "X_test = X_test.reshape(-1, 28, 28, 1)\n",
    "\n",
    "# Normalize the data\n",
    "X_train = X_train.astype('float32') / 255.0\n",
    "X_test = X_test.astype('float32') / 255.0\n",
    "\n",
    "# One-hot encode the labels\n",
    "num_classes = 62\n",
    "y_train = to_categorical(y_train, num_classes)\n",
    "y_test = to_categorical(y_test, num_classes)"
   ]
  },
  {
   "cell_type": "code",
   "execution_count": 85,
   "id": "bfb8af76-5300-4cbb-9800-73cbbc0263fa",
   "metadata": {},
   "outputs": [
    {
     "name": "stdout",
     "output_type": "stream",
     "text": [
      "\n",
      "After creating validation set:\n",
      "X_train shape: (80000, 28, 28, 1)\n",
      "y_train shape: (80000, 62)\n",
      "X_val shape: (20000, 28, 28, 1)\n",
      "y_val shape: (20000, 62)\n",
      "X_test shape: (20000, 28, 28, 1)\n",
      "y_test shape: (20000, 62)\n"
     ]
    }
   ],
   "source": [
    "# Create a validation set\n",
    "X_train, X_val, y_train, y_val = train_test_split(X_train, y_train, test_size=0.2, random_state=42)\n",
    "\n",
    "print(\"\\nAfter creating validation set:\")\n",
    "print(f\"X_train shape: {X_train.shape}\")\n",
    "print(f\"y_train shape: {y_train.shape}\")\n",
    "print(f\"X_val shape: {X_val.shape}\")\n",
    "print(f\"y_val shape: {y_val.shape}\")\n",
    "print(f\"X_test shape: {X_test.shape}\")\n",
    "print(f\"y_test shape: {y_test.shape}\")"
   ]
  },
  {
   "cell_type": "code",
   "execution_count": 100,
   "id": "8d559a4c-bee5-4624-8fdf-4edef64bd0eb",
   "metadata": {},
   "outputs": [
    {
     "name": "stdout",
     "output_type": "stream",
     "text": [
      "Fitting 3 folds for each of 4 candidates, totalling 12 fits\n",
      "[CV] END batch_size=64, epochs=5, model__learning_rate=0.001; total time= 3.7min\n",
      "[CV] END batch_size=64, epochs=5, model__learning_rate=0.001; total time= 3.7min\n",
      "[CV] END batch_size=64, epochs=5, model__learning_rate=0.001; total time= 3.7min\n",
      "[CV] END batch_size=64, epochs=5, model__learning_rate=0.0001; total time= 3.7min\n",
      "[CV] END batch_size=64, epochs=5, model__learning_rate=0.0001; total time= 3.8min\n",
      "[CV] END batch_size=64, epochs=5, model__learning_rate=0.0001; total time= 3.7min\n",
      "[CV] END batch_size=128, epochs=5, model__learning_rate=0.001; total time= 2.8min\n",
      "[CV] END batch_size=128, epochs=5, model__learning_rate=0.001; total time= 2.7min\n",
      "[CV] END batch_size=128, epochs=5, model__learning_rate=0.001; total time= 2.8min\n",
      "[CV] END batch_size=128, epochs=5, model__learning_rate=0.0001; total time= 2.8min\n",
      "[CV] END batch_size=128, epochs=5, model__learning_rate=0.0001; total time= 2.8min\n",
      "[CV] END batch_size=128, epochs=5, model__learning_rate=0.0001; total time= 2.8min\n",
      "best params: {'batch_size': 64, 'epochs': 5, 'model__learning_rate': 0.001}\n"
     ]
    }
   ],
   "source": [
    "# Design RNN Model\n",
    "def create_rnn_model(learning_rate=0.001):\n",
    "    model = Sequential()\n",
    "    model.add(Input(shape=(28, 28)))\n",
    "    # LSTM\n",
    "    model.add(LSTM(128, return_sequences=False))\n",
    "    model.add(BatchNormalization())\n",
    "    # Dropout\n",
    "    model.add(Dropout(0.5))\n",
    "    # Dense\n",
    "    model.add(Dense(128, activation='relu'))\n",
    "    # Dropout\n",
    "    model.add(Dropout(0.5))\n",
    "    # Output\n",
    "    model.add(Dense(62, activation='softmax'))\n",
    "    # Compile\n",
    "    optimizer = Adam(learning_rate=learning_rate)\n",
    "    model.compile(optimizer=optimizer,\n",
    "                  loss='categorical_crossentropy',\n",
    "                  metrics=['accuracy'])\n",
    "    return model\n",
    "rnn_model = KerasClassifier(model=create_rnn_model, verbose=0)\n",
    "param_grid_rnn = {\n",
    "    'batch_size': [64, 128],\n",
    "    'epochs': [5],\n",
    "    'model__learning_rate': [0.001, 0.0001],\n",
    "}\n",
    "grid_search_rnn = GridSearchCV(estimator=rnn_model, param_grid=param_grid_rnn, cv=3, verbose=2, n_jobs=1)\n",
    "grid_result_rnn = grid_search_rnn.fit(X_train, y_train)\n",
    "print(f\"best params: {grid_result_rnn.best_params_}\")"
   ]
  },
  {
   "cell_type": "code",
   "execution_count": 101,
   "id": "5f1ba6e5-4799-4afb-822d-ee44697436cf",
   "metadata": {},
   "outputs": [
    {
     "name": "stdout",
     "output_type": "stream",
     "text": [
      "Model: \"sequential_173\"\n",
      "_________________________________________________________________\n",
      " Layer (type)                Output Shape              Param #   \n",
      "=================================================================\n",
      " lstm_131 (LSTM)             (None, 128)               80384     \n",
      "                                                                 \n",
      " batch_normalization_131 (Ba  (None, 128)              512       \n",
      " tchNormalization)                                               \n",
      "                                                                 \n",
      " dropout_89 (Dropout)        (None, 128)               0         \n",
      "                                                                 \n",
      " dense_171 (Dense)           (None, 128)               16512     \n",
      "                                                                 \n",
      " dropout_90 (Dropout)        (None, 128)               0         \n",
      "                                                                 \n",
      " dense_172 (Dense)           (None, 62)                7998      \n",
      "                                                                 \n",
      "=================================================================\n",
      "Total params: 105,406\n",
      "Trainable params: 105,150\n",
      "Non-trainable params: 256\n",
      "_________________________________________________________________\n",
      "Epoch 1/10\n",
      "1250/1250 [==============================] - 72s 55ms/step - loss: 1.7375 - accuracy: 0.5345 - val_loss: 0.8758 - val_accuracy: 0.7262\n",
      "Epoch 2/10\n",
      "1250/1250 [==============================] - 68s 54ms/step - loss: 0.9317 - accuracy: 0.7145 - val_loss: 0.6704 - val_accuracy: 0.7746\n",
      "Epoch 3/10\n",
      "1250/1250 [==============================] - 67s 54ms/step - loss: 0.7693 - accuracy: 0.7592 - val_loss: 0.6130 - val_accuracy: 0.7942\n",
      "Epoch 4/10\n",
      "1250/1250 [==============================] - 67s 54ms/step - loss: 0.6869 - accuracy: 0.7803 - val_loss: 0.5613 - val_accuracy: 0.8095\n",
      "Epoch 5/10\n",
      "1250/1250 [==============================] - 67s 54ms/step - loss: 0.6391 - accuracy: 0.7940 - val_loss: 0.5356 - val_accuracy: 0.8159\n",
      "Epoch 6/10\n",
      "1250/1250 [==============================] - 67s 54ms/step - loss: 0.6085 - accuracy: 0.8030 - val_loss: 0.5238 - val_accuracy: 0.8207\n",
      "Epoch 7/10\n",
      "1250/1250 [==============================] - 67s 54ms/step - loss: 0.5809 - accuracy: 0.8106 - val_loss: 0.5003 - val_accuracy: 0.8253\n",
      "Epoch 8/10\n",
      "1250/1250 [==============================] - 67s 54ms/step - loss: 0.5564 - accuracy: 0.8170 - val_loss: 0.5131 - val_accuracy: 0.8237\n",
      "Epoch 9/10\n",
      "1250/1250 [==============================] - 67s 54ms/step - loss: 0.5425 - accuracy: 0.8204 - val_loss: 0.4843 - val_accuracy: 0.8307\n",
      "Epoch 10/10\n",
      "1250/1250 [==============================] - 67s 54ms/step - loss: 0.5285 - accuracy: 0.8238 - val_loss: 0.4917 - val_accuracy: 0.8310\n"
     ]
    }
   ],
   "source": [
    "# best_params_rnn = grid_result_rnn.best_params_\n",
    "best_params_rnn = {'batch_size': 64, 'epochs': 10, 'model__learning_rate': 0.001}\n",
    "best_rnn = create_rnn_model(learning_rate=best_params_rnn['model__learning_rate'])\n",
    "best_rnn.summary()\n",
    "history_rnn = best_rnn.fit(X_train, y_train,\n",
    "                          validation_data=(X_val, y_val),\n",
    "                          epochs=best_params_rnn['epochs'],\n",
    "                          batch_size=best_params_rnn['batch_size'])"
   ]
  },
  {
   "cell_type": "code",
   "execution_count": 102,
   "id": "a6a5f1f1-2cd2-496a-bfa5-4b2c71c23908",
   "metadata": {},
   "outputs": [
    {
     "name": "stdout",
     "output_type": "stream",
     "text": [
      "625/625 [==============================] - 11s 16ms/step\n",
      "RNN Test Accuracy: 0.8307\n"
     ]
    }
   ],
   "source": [
    "# Evaluating the RNN model on test data\n",
    "\n",
    "# Predict classes\n",
    "y_pred_rnn = best_rnn.predict(X_test)\n",
    "y_pred_rnn_classes = np.argmax(y_pred_rnn, axis=1)\n",
    "y_test_classes = np.argmax(y_test, axis=1)\n",
    "\n",
    "# Calculate accuracy\n",
    "accuracy_rnn = accuracy_score(y_test_classes, y_pred_rnn_classes)\n",
    "print(f\"RNN Test Accuracy: {accuracy_rnn:.4f}\")"
   ]
  },
  {
   "cell_type": "code",
   "execution_count": 106,
   "id": "60e4a4db-7cdc-4fe1-9d1c-4d6fe0e73bb6",
   "metadata": {},
   "outputs": [
    {
     "data": {
      "image/png": "[encoded data removed]",
      "text/plain": [
       "<Figure size 1200x400 with 2 Axes>"
      ]
     },
     "metadata": {},
     "output_type": "display_data"
    }
   ],
   "source": [
    "# Plot training & validation accuracy values\n",
    "plt.figure(figsize=(12, 4))\n",
    "plt.subplot(1, 2, 1)\n",
    "plt.plot(history_rnn.history['accuracy'])\n",
    "plt.plot(history_rnn.history['val_accuracy'])\n",
    "plt.title('Model accuracy')\n",
    "plt.ylabel('Accuracy')\n",
    "plt.xlabel('Epoch')\n",
    "plt.legend(['Train', 'Validation'], loc='upper left')\n",
    "\n",
    "# Plot training & validation loss values\n",
    "plt.subplot(1, 2, 2)\n",
    "plt.plot(history_rnn.history['loss'])\n",
    "plt.plot(history_rnn.history['val_loss'])\n",
    "plt.title('Model loss')\n",
    "plt.ylabel('Loss')\n",
    "plt.xlabel('Epoch')\n",
    "plt.legend(['Train', 'Validation'], loc='upper left')\n",
    "\n",
    "plt.tight_layout()\n",
    "plt.show()"
   ]
  },
  {
   "cell_type": "code",
   "execution_count": null,
   "id": "83dcbaf7-52f6-488a-b609-8e4b5d325f0d",
   "metadata": {},
   "outputs": [],
   "source": []
  }
 ],
 "metadata": {
  "kernelspec": {
   "display_name": "Python (myenv)",
   "language": "python",
   "name": "myenv"
  },
  "language_info": {
   "codemirror_mode": {
    "name": "ipython",
    "version": 3
   },
   "file_extension": ".py",
   "mimetype": "text/x-python",
   "name": "python",
   "nbconvert_exporter": "python",
   "pygments_lexer": "ipython3",
   "version": "3.8.18"
  }
 },
 "nbformat": 4,
 "nbformat_minor": 5
}
