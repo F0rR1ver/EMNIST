{
 "cells": [
  {
   "cell_type": "markdown",
   "metadata": {},
   "source": [
    "# Setup"
   ]
  },
  {
   "cell_type": "code",
   "execution_count": 1,
   "metadata": {},
   "outputs": [],
   "source": [
    "# Install and import necessary packages and libraries\n",
    "import pickle\n",
    "import numpy as np\n",
    "import pandas as pd\n",
    "import seaborn as sns\n",
    "import matplotlib.pyplot as plt\n",
    "import tensorflow as tf\n",
    "import os\n",
    "os.environ['TF_CPP_MIN_LOG_LEVEL'] = '2' \n",
    "from sklearn.metrics import classification_report, confusion_matrix, accuracy_score\n",
    "from sklearn.model_selection import train_test_split\n",
    "from sklearn.model_selection import GridSearchCV\n",
    "from sklearn.model_selection import RandomizedSearchCV\n",
    "from sklearn.preprocessing import LabelEncoder\n",
    "from tensorflow.keras import layers, Model\n",
    "from tensorflow.keras.utils import to_categorical\n",
    "from tensorflow.keras.optimizers import Adam\n",
    "from tensorflow.keras.applications import EfficientNetB0\n",
    "from tensorflow.keras.preprocessing.image import ImageDataGenerator\n",
    "from tensorflow.keras.models import Sequential\n",
    "from tensorflow.keras.layers import Dense, Conv2D, MaxPooling2D, Flatten, Dropout, BatchNormalization,Input, LSTM\n",
    "from tensorflow.keras.wrappers.scikit_learn import KerasClassifier\n",
    "#from scikeras.wrappers import KerasClassifier"
   ]
  },
  {
   "cell_type": "code",
   "execution_count": 2,
   "metadata": {},
   "outputs": [
    {
     "name": "stdout",
     "output_type": "stream",
     "text": [
      "Versions of imported packages:\n",
      "Num GPUs Available:  1\n",
      "numpy: 1.24.3\n",
      "pandas: 2.0.3\n",
      "seaborn: 0.13.2\n",
      "matplotlib: 3.7.2\n",
      "tensorflow: 2.10.0\n",
      "scikit-learn: 2.10.0\n"
     ]
    }
   ],
   "source": [
    "# Version information\n",
    "print(\"Versions of imported packages:\")\n",
    "print(\"Num GPUs Available: \", len(tf.config.experimental.list_physical_devices('GPU')))\n",
    "print(f\"numpy: {np.__version__}\")\n",
    "print(f\"pandas: {pd.__version__}\")\n",
    "print(f\"seaborn: {sns.__version__}\")\n",
    "print(f\"matplotlib: {plt.matplotlib.__version__}\")\n",
    "print(f\"tensorflow: {tf.__version__}\")\n",
    "print(f\"scikit-learn: {tf.__version__}\")\n"
   ]
  },
  {
   "cell_type": "markdown",
   "metadata": {},
   "source": [
    "# Loading Data"
   ]
  },
  {
   "cell_type": "code",
   "execution_count": 3,
   "metadata": {},
   "outputs": [
    {
     "name": "stdout",
     "output_type": "stream",
     "text": [
      "Training data: (100000, 28, 28)\n",
      "Training labels: (100000,)\n",
      "Test data: (20000, 28, 28)\n",
      "Test labels: (20000,)\n"
     ]
    }
   ],
   "source": [
    "# loading data\n",
    "with open('data/emnist_train.pkl', 'rb') as f:\n",
    "    train_data = pickle.load(f)\n",
    "with open('data/emnist_test.pkl', 'rb') as f:\n",
    "    test_data = pickle.load(f)\n",
    "\n",
    "x_train = train_data['data']\n",
    "y_train = train_data['labels']\n",
    "\n",
    "x_test = test_data['data']\n",
    "y_test = test_data['labels']\n",
    "\n",
    "print(\"Training data:\", x_train.shape)\n",
    "print(\"Training labels:\", y_train.shape)\n",
    "print(\"Test data:\", x_test.shape)\n",
    "print(\"Test labels:\", y_test.shape)"
   ]
  },
  {
   "cell_type": "code",
   "execution_count": 4,
   "metadata": {},
   "outputs": [
    {
     "data": {
      "image/png": "[encoded data removed]",
      "text/plain": [
       "<Figure size 1000x500 with 10 Axes>"
      ]
     },
     "metadata": {},
     "output_type": "display_data"
    }
   ],
   "source": [
    "# show some data\n",
    "fig, axes = plt.subplots(2, 5, figsize=(10, 5))  # 2 rows and 5 columns displaying 10 images\n",
    "\n",
    "for i, ax in enumerate(axes.flat):\n",
    "    ax.imshow(x_train[i], cmap='gray')  # Display the ith image, using greyscale colour mapping\n",
    "    ax.set_title(f\"Label: {y_train[i]}\")  # Showing corresponding tags\n",
    "    ax.axis('off')  # no axes\n",
    "\n",
    "plt.tight_layout()  \n",
    "plt.show() "
   ]
  },
  {
   "cell_type": "markdown",
   "metadata": {},
   "source": [
    "# Pre-processing"
   ]
  },
  {
   "cell_type": "code",
   "execution_count": 5,
   "metadata": {},
   "outputs": [],
   "source": [
    "def preprocess_data(x_train, y_train, x_test, y_test, num_classes=62, validation_split=0.2, one_hot_encode=True):\n",
    "\n",
    "    # Reshape training and test data for grayscale: (num_samples, 28, 28, 1)\n",
    "    x_train = x_train.reshape(-1, 28, 28, 1).astype('float32')\n",
    "    x_test = x_test.reshape(-1, 28, 28, 1).astype('float32')\n",
    "    \n",
    "    # Normalize the training and test data \n",
    "    x_train = x_train / 255.0\n",
    "    x_test = x_test / 255.0\n",
    "    \n",
    "    # Optional One-hot coded labels\n",
    "    if one_hot_encode:\n",
    "        y_train = to_categorical(y_train, num_classes)\n",
    "        y_test = to_categorical(y_test, num_classes)\n",
    "\n",
    "    # split the data into training and validation sets\n",
    "    x_train, x_val, y_train, y_val = train_test_split(x_train, y_train, test_size=validation_split, random_state=42)\n",
    "    \n",
    "    # show the results\n",
    "    print(\"\\nAfter preprocessing:\")\n",
    "    print(f\"x_train shape: {x_train.shape}\")\n",
    "    print(f\"y_train shape: {y_train.shape}\")\n",
    "    print(f\"x_val shape: {x_val.shape}\")\n",
    "    print(f\"y_val shape: {y_val.shape}\")\n",
    "    print(f\"x_test shape: {x_test.shape}\")\n",
    "    print(f\"y_test shape: {y_test.shape}\")\n",
    "    \n",
    "    return x_train, y_train, x_val, y_val, x_test, y_test"
   ]
  },
  {
   "cell_type": "code",
   "execution_count": 6,
   "metadata": {},
   "outputs": [],
   "source": [
    "# EMNIST has 62 classes\n",
    "num_classes=62"
   ]
  },
  {
   "cell_type": "markdown",
   "metadata": {},
   "source": [
    "# Model Implementation"
   ]
  },
  {
   "cell_type": "markdown",
   "metadata": {},
   "source": [
    "## Model 1: Convolutional Neural Network (CNN)"
   ]
  },
  {
   "cell_type": "markdown",
   "metadata": {},
   "source": [
    "### Model Implementation"
   ]
  },
  {
   "cell_type": "code",
   "execution_count": 7,
   "metadata": {},
   "outputs": [
    {
     "name": "stdout",
     "output_type": "stream",
     "text": [
      "\n",
      "After preprocessing:\n",
      "x_train shape: (80000, 28, 28, 1)\n",
      "y_train shape: (80000, 62)\n",
      "x_val shape: (20000, 28, 28, 1)\n",
      "y_val shape: (20000, 62)\n",
      "x_test shape: (20000, 28, 28, 1)\n",
      "y_test shape: (20000, 62)\n"
     ]
    }
   ],
   "source": [
    "# Getting pre-processed data\n",
    "x_train_cnn, y_train_cnn, x_val_cnn, y_val_cnn, x_test_cnn, y_test_cnn = preprocess_data(x_train, y_train, x_test, y_test, one_hot_encode=True)\n"
   ]
  },
  {
   "cell_type": "code",
   "execution_count": 8,
   "metadata": {},
   "outputs": [
    {
     "name": "stdout",
     "output_type": "stream",
     "text": [
      "\n",
      "Data augmentation generator is ready to use during model training.\n"
     ]
    }
   ],
   "source": [
    "# Data augmentation setup\n",
    "datagen = ImageDataGenerator(\n",
    "    rotation_range=10,\n",
    "    zoom_range=0.1,\n",
    "    width_shift_range=0.1,\n",
    "    height_shift_range=0.1\n",
    ")\n",
    "\n",
    "# Fit the datagen on the training data\n",
    "datagen.fit(x_train_cnn)\n",
    "\n",
    "print(\"\\nData augmentation generator is ready to use during model training.\")"
   ]
  },
  {
   "cell_type": "code",
   "execution_count": 9,
   "metadata": {},
   "outputs": [
    {
     "name": "stdout",
     "output_type": "stream",
     "text": [
      "Model: \"sequential\"\n",
      "_________________________________________________________________\n",
      " Layer (type)                Output Shape              Param #   \n",
      "=================================================================\n",
      " conv2d (Conv2D)             (None, 26, 26, 32)        320       \n",
      "                                                                 \n",
      " max_pooling2d (MaxPooling2D  (None, 13, 13, 32)       0         \n",
      " )                                                               \n",
      "                                                                 \n",
      " batch_normalization (BatchN  (None, 13, 13, 32)       128       \n",
      " ormalization)                                                   \n",
      "                                                                 \n",
      " conv2d_1 (Conv2D)           (None, 11, 11, 64)        18496     \n",
      "                                                                 \n",
      " max_pooling2d_1 (MaxPooling  (None, 5, 5, 64)         0         \n",
      " 2D)                                                             \n",
      "                                                                 \n",
      " batch_normalization_1 (Batc  (None, 5, 5, 64)         256       \n",
      " hNormalization)                                                 \n",
      "                                                                 \n",
      " flatten (Flatten)           (None, 1600)              0         \n",
      "                                                                 \n",
      " dense (Dense)               (None, 128)               204928    \n",
      "                                                                 \n",
      " dropout (Dropout)           (None, 128)               0         \n",
      "                                                                 \n",
      " dense_1 (Dense)             (None, 62)                7998      \n",
      "                                                                 \n",
      "=================================================================\n",
      "Total params: 232,126\n",
      "Trainable params: 231,934\n",
      "Non-trainable params: 192\n",
      "_________________________________________________________________\n"
     ]
    }
   ],
   "source": [
    "# Model Implementation\n",
    "\n",
    "model_cnn = Sequential()\n",
    "\n",
    "# Convolutional Layer 1\n",
    "model_cnn.add(Conv2D(32, kernel_size=(3, 3), activation='relu', input_shape=(28, 28, 1)))\n",
    "model_cnn.add(MaxPooling2D(pool_size=(2, 2)))\n",
    "model_cnn.add(BatchNormalization())\n",
    "\n",
    "# Convolutional Layer 2\n",
    "model_cnn.add(Conv2D(64, kernel_size=(3, 3), activation='relu'))\n",
    "model_cnn.add(MaxPooling2D(pool_size=(2, 2)))\n",
    "model_cnn.add(BatchNormalization())\n",
    "\n",
    "# Flatten and Dense Layers\n",
    "model_cnn.add(Flatten())\n",
    "model_cnn.add(Dense(128, activation='relu'))\n",
    "model_cnn.add(Dropout(0.5))\n",
    "model_cnn.add(Dense(num_classes, activation='softmax'))\n",
    "\n",
    "# Compile the model\n",
    "model_cnn.compile(optimizer='adam',\n",
    "                  loss='categorical_crossentropy',\n",
    "                  metrics=['accuracy'])\n",
    "\n",
    "model_cnn.summary()"
   ]
  },
  {
   "cell_type": "code",
   "execution_count": 10,
   "metadata": {},
   "outputs": [],
   "source": [
    "# Function to create model, required for KerasClassifier\n",
    "def create_cnn_model(optimizer='adam', dropout_rate=0.5):\n",
    "    model = Sequential()\n",
    "    model.add(Conv2D(32, kernel_size=(3, 3), activation='relu', input_shape=(28, 28, 1)))\n",
    "    model.add(MaxPooling2D(pool_size=(2, 2)))\n",
    "    model.add(BatchNormalization())\n",
    "    model.add(Conv2D(64, kernel_size=(3, 3), activation='relu'))\n",
    "    model.add(MaxPooling2D(pool_size=(2, 2)))\n",
    "    model.add(BatchNormalization())\n",
    "    model.add(Flatten())\n",
    "    model.add(Dense(128, activation='relu'))\n",
    "    model.add(Dropout(dropout_rate))\n",
    "    model.add(Dense(num_classes, activation='softmax'))\n",
    "    model.compile(optimizer=optimizer,\n",
    "                  loss='categorical_crossentropy',\n",
    "                  metrics=['accuracy'])\n",
    "    return model\n"
   ]
  },
  {
   "cell_type": "markdown",
   "metadata": {},
   "source": [
    "### Hyperparameter Tunning"
   ]
  },
  {
   "cell_type": "code",
   "execution_count": 12,
   "metadata": {},
   "outputs": [
    {
     "name": "stderr",
     "output_type": "stream",
     "text": [
      "C:\\Users\\F0rR1ver\\AppData\\Local\\Temp\\ipykernel_30828\\890626091.py:3: DeprecationWarning: KerasClassifier is deprecated, use Sci-Keras (https://github.com/adriangb/scikeras) instead. See https://www.adriangb.com/scikeras/stable/migration.html for help migrating.\n",
      "  model_cnn_cv = KerasClassifier(build_fn=create_cnn_model, verbose=0)\n"
     ]
    },
    {
     "name": "stdout",
     "output_type": "stream",
     "text": [
      "Best: 0.842212 using {'batch_size': 128, 'dropout_rate': 0.3, 'epochs': 5, 'optimizer': 'adam'}\n"
     ]
    }
   ],
   "source": [
    "# Hyperparameter tuning for the CNN model\n",
    "# Wrap the model using the function you have created\n",
    "model_cnn_cv = KerasClassifier(build_fn=create_cnn_model, verbose=0)\n",
    "\n",
    "# Define the grid search parameters\n",
    "param_grid = {\n",
    "    'batch_size': [64, 128],\n",
    "    'epochs': [5],  # Set to a low number for demonstration purposes\n",
    "    'optimizer': ['adam', 'rmsprop'],\n",
    "    'dropout_rate': [0.3, 0.5]\n",
    "}\n",
    "\n",
    "# Create Grid Search\n",
    "grid_cnn = GridSearchCV(estimator=model_cnn_cv, param_grid=param_grid, n_jobs=1, cv=3)\n",
    "\n",
    "# Fit the grid search\n",
    "# Note: This process will take a considerable amount of time\n",
    "grid_result_cnn = grid_cnn.fit(x_train_cnn, y_train_cnn)\n",
    "\n",
    "# Summarize results\n",
    "print(\"Best: %f using %s\" % (grid_result_cnn.best_score_, grid_result_cnn.best_params_))"
   ]
  },
  {
   "cell_type": "code",
   "execution_count": 34,
   "metadata": {},
   "outputs": [
    {
     "name": "stdout",
     "output_type": "stream",
     "text": [
      "Best Parameters: {'batch_size': 128, 'dropout_rate': 0.3, 'epochs': 5, 'optimizer': 'adam'}\n",
      "Epoch 1/10\n",
      "563/563 [==============================] - 2s 3ms/step - loss: 0.9707 - accuracy: 0.7207 - val_loss: 1.0317 - val_accuracy: 0.6676\n",
      "Epoch 2/10\n",
      "563/563 [==============================] - 2s 3ms/step - loss: 0.5734 - accuracy: 0.8078 - val_loss: 0.4894 - val_accuracy: 0.8304\n",
      "Epoch 3/10\n",
      "563/563 [==============================] - 2s 3ms/step - loss: 0.4854 - accuracy: 0.8303 - val_loss: 0.4533 - val_accuracy: 0.8443\n",
      "Epoch 4/10\n",
      "563/563 [==============================] - 2s 3ms/step - loss: 0.4445 - accuracy: 0.8420 - val_loss: 0.4465 - val_accuracy: 0.8443\n",
      "Epoch 5/10\n",
      "563/563 [==============================] - 2s 3ms/step - loss: 0.4164 - accuracy: 0.8479 - val_loss: 0.4529 - val_accuracy: 0.8438\n",
      "Epoch 6/10\n",
      "563/563 [==============================] - 2s 3ms/step - loss: 0.3907 - accuracy: 0.8565 - val_loss: 0.4432 - val_accuracy: 0.8471\n",
      "Epoch 7/10\n",
      "563/563 [==============================] - 1s 3ms/step - loss: 0.3706 - accuracy: 0.8608 - val_loss: 0.4447 - val_accuracy: 0.8518\n",
      "Epoch 8/10\n",
      "563/563 [==============================] - 2s 3ms/step - loss: 0.3553 - accuracy: 0.8650 - val_loss: 0.4500 - val_accuracy: 0.8482\n",
      "Epoch 9/10\n",
      "563/563 [==============================] - 2s 3ms/step - loss: 0.3411 - accuracy: 0.8699 - val_loss: 0.4855 - val_accuracy: 0.8425\n",
      "Epoch 10/10\n",
      "563/563 [==============================] - 2s 3ms/step - loss: 0.3262 - accuracy: 0.8739 - val_loss: 0.4644 - val_accuracy: 0.8469\n"
     ]
    }
   ],
   "source": [
    "# Extract the best parameters\n",
    "best_params_cnn = grid_result_cnn.best_params_\n",
    "print(\"Best Parameters:\", best_params_cnn)\n",
    "\n",
    "# Create a new model with the best parameters\n",
    "model_cnn_best = create_cnn_model(optimizer=best_params_cnn['optimizer'], dropout_rate=best_params_cnn['dropout_rate'])\n",
    "\n",
    "# Train the model with the training data\n",
    "history_cnn = model_cnn_best.fit(\n",
    "    x_train_cnn, y_train_cnn,\n",
    "    batch_size=best_params_cnn['batch_size'],\n",
    "    epochs=10,  # Increase the number of epochs for better performance\n",
    "    validation_split=0.1,\n",
    "    verbose=1\n",
    ")"
   ]
  },
  {
   "cell_type": "markdown",
   "metadata": {},
   "source": [
    "## Model 2: RNN"
   ]
  },
  {
   "cell_type": "markdown",
   "metadata": {},
   "source": [
    "### Model Implementation"
   ]
  },
  {
   "cell_type": "code",
   "execution_count": 14,
   "metadata": {},
   "outputs": [
    {
     "name": "stdout",
     "output_type": "stream",
     "text": [
      "\n",
      "After preprocessing:\n",
      "x_train shape: (80000, 28, 28, 1)\n",
      "y_train shape: (80000, 62)\n",
      "x_val shape: (20000, 28, 28, 1)\n",
      "y_val shape: (20000, 62)\n",
      "x_test shape: (20000, 28, 28, 1)\n",
      "y_test shape: (20000, 62)\n"
     ]
    }
   ],
   "source": [
    "# Getting pre-processed data\n",
    "x_train_rnn, y_train_rnn, x_val_rnn, y_val_rnn, x_test_rnn, y_test_rnn = preprocess_data(x_train, y_train, x_test, y_test, one_hot_encode=True)"
   ]
  },
  {
   "cell_type": "code",
   "execution_count": 17,
   "metadata": {},
   "outputs": [],
   "source": [
    "# Design RNN Model\n",
    "def create_rnn_model(learning_rate=0.001):\n",
    "    model = Sequential()\n",
    "    model.add(Input(shape=(28, 28)))\n",
    "    # LSTM\n",
    "    model.add(LSTM(128, return_sequences=False))\n",
    "    model.add(BatchNormalization())\n",
    "    # Dropout\n",
    "    model.add(Dropout(0.5))\n",
    "    # Dense\n",
    "    model.add(Dense(128, activation='relu'))\n",
    "    # Dropout\n",
    "    model.add(Dropout(0.5))\n",
    "    # Output\n",
    "    model.add(Dense(62, activation='softmax'))\n",
    "    # Compile\n",
    "    optimizer = Adam(learning_rate=learning_rate)\n",
    "    model.compile(optimizer=optimizer,\n",
    "                  loss='categorical_crossentropy',\n",
    "                  metrics=['accuracy'])\n",
    "    return model"
   ]
  },
  {
   "cell_type": "markdown",
   "metadata": {},
   "source": [
    "### Hyperparameter Tunning"
   ]
  },
  {
   "cell_type": "code",
   "execution_count": 21,
   "metadata": {},
   "outputs": [
    {
     "name": "stderr",
     "output_type": "stream",
     "text": [
      "C:\\Users\\F0rR1ver\\AppData\\Local\\Temp\\ipykernel_30828\\1422443469.py:1: DeprecationWarning: KerasClassifier is deprecated, use Sci-Keras (https://github.com/adriangb/scikeras) instead. See https://www.adriangb.com/scikeras/stable/migration.html for help migrating.\n",
      "  rnn_model = KerasClassifier(build_fn=create_rnn_model, verbose=0)\n"
     ]
    },
    {
     "name": "stdout",
     "output_type": "stream",
     "text": [
      "Fitting 3 folds for each of 4 candidates, totalling 12 fits\n",
      "[CV] END .......batch_size=64, epochs=5, learning_rate=0.001; total time=  22.6s\n",
      "[CV] END .......batch_size=64, epochs=5, learning_rate=0.001; total time=  22.0s\n",
      "[CV] END .......batch_size=64, epochs=5, learning_rate=0.001; total time=  22.0s\n",
      "[CV] END ......batch_size=64, epochs=5, learning_rate=0.0001; total time=  22.2s\n",
      "[CV] END ......batch_size=64, epochs=5, learning_rate=0.0001; total time=  22.4s\n",
      "[CV] END ......batch_size=64, epochs=5, learning_rate=0.0001; total time=  22.1s\n",
      "[CV] END ......batch_size=128, epochs=5, learning_rate=0.001; total time=  12.4s\n",
      "[CV] END ......batch_size=128, epochs=5, learning_rate=0.001; total time=  12.7s\n",
      "[CV] END ......batch_size=128, epochs=5, learning_rate=0.001; total time=  12.5s\n",
      "[CV] END .....batch_size=128, epochs=5, learning_rate=0.0001; total time=  12.4s\n",
      "[CV] END .....batch_size=128, epochs=5, learning_rate=0.0001; total time=  12.6s\n",
      "[CV] END .....batch_size=128, epochs=5, learning_rate=0.0001; total time=  12.4s\n",
      "best params: {'batch_size': 64, 'epochs': 5, 'learning_rate': 0.001}\n"
     ]
    }
   ],
   "source": [
    "rnn_model = KerasClassifier(build_fn=create_rnn_model, verbose=0)\n",
    "param_grid_rnn = {\n",
    "    'batch_size': [64, 128],\n",
    "    'epochs': [5],\n",
    "    'learning_rate': [0.001, 0.0001],\n",
    "}\n",
    "grid_search_rnn = GridSearchCV(estimator=rnn_model, param_grid=param_grid_rnn, cv=3, verbose=2, n_jobs=1)\n",
    "grid_result_rnn = grid_search_rnn.fit(x_train_rnn, y_train_rnn)\n",
    "print(f\"best params: {grid_result_rnn.best_params_}\")"
   ]
  },
  {
   "cell_type": "code",
   "execution_count": 22,
   "metadata": {},
   "outputs": [
    {
     "name": "stdout",
     "output_type": "stream",
     "text": [
      "Model: \"sequential_65\"\n",
      "_________________________________________________________________\n",
      " Layer (type)                Output Shape              Param #   \n",
      "=================================================================\n",
      " lstm_13 (LSTM)              (None, 128)               80384     \n",
      "                                                                 \n",
      " batch_normalization_117 (Ba  (None, 128)              512       \n",
      " tchNormalization)                                               \n",
      "                                                                 \n",
      " dropout_78 (Dropout)        (None, 128)               0         \n",
      "                                                                 \n",
      " dense_130 (Dense)           (None, 128)               16512     \n",
      "                                                                 \n",
      " dropout_79 (Dropout)        (None, 128)               0         \n",
      "                                                                 \n",
      " dense_131 (Dense)           (None, 62)                7998      \n",
      "                                                                 \n",
      "=================================================================\n",
      "Total params: 105,406\n",
      "Trainable params: 105,150\n",
      "Non-trainable params: 256\n",
      "_________________________________________________________________\n",
      "Epoch 1/10\n",
      "1250/1250 [==============================] - 8s 6ms/step - loss: 1.7462 - accuracy: 0.5343 - val_loss: 0.9014 - val_accuracy: 0.7164\n",
      "Epoch 2/10\n",
      "1250/1250 [==============================] - 7s 5ms/step - loss: 0.9369 - accuracy: 0.7146 - val_loss: 0.6727 - val_accuracy: 0.7790\n",
      "Epoch 3/10\n",
      "1250/1250 [==============================] - 6s 5ms/step - loss: 0.7735 - accuracy: 0.7586 - val_loss: 0.5831 - val_accuracy: 0.7950\n",
      "Epoch 4/10\n",
      "1250/1250 [==============================] - 6s 5ms/step - loss: 0.6974 - accuracy: 0.7797 - val_loss: 0.5662 - val_accuracy: 0.8031\n",
      "Epoch 5/10\n",
      "1250/1250 [==============================] - 6s 5ms/step - loss: 0.6459 - accuracy: 0.7941 - val_loss: 0.5372 - val_accuracy: 0.8163\n",
      "Epoch 6/10\n",
      "1250/1250 [==============================] - 7s 5ms/step - loss: 0.6107 - accuracy: 0.8022 - val_loss: 0.5296 - val_accuracy: 0.8176\n",
      "Epoch 7/10\n",
      "1250/1250 [==============================] - 7s 5ms/step - loss: 0.5843 - accuracy: 0.8109 - val_loss: 0.5167 - val_accuracy: 0.8245\n",
      "Epoch 8/10\n",
      "1250/1250 [==============================] - 7s 5ms/step - loss: 0.5644 - accuracy: 0.8145 - val_loss: 0.5070 - val_accuracy: 0.8245\n",
      "Epoch 9/10\n",
      "1250/1250 [==============================] - 7s 5ms/step - loss: 0.5445 - accuracy: 0.8208 - val_loss: 0.5087 - val_accuracy: 0.8275\n",
      "Epoch 10/10\n",
      "1250/1250 [==============================] - 7s 5ms/step - loss: 0.5304 - accuracy: 0.8248 - val_loss: 0.5005 - val_accuracy: 0.8292\n"
     ]
    }
   ],
   "source": [
    "# best_params_rnn = grid_result_rnn.best_params_\n",
    "best_params_rnn = {'batch_size': 64, 'epochs': 10, 'model__learning_rate': 0.001}\n",
    "best_rnn = create_rnn_model(learning_rate=best_params_rnn['model__learning_rate'])\n",
    "best_rnn.summary()\n",
    "history_rnn = best_rnn.fit(x_train_rnn, y_train_rnn,\n",
    "                          validation_data=(x_val_rnn, y_val_rnn),\n",
    "                          epochs=best_params_rnn['epochs'],\n",
    "                          batch_size=best_params_rnn['batch_size'])"
   ]
  },
  {
   "cell_type": "markdown",
   "metadata": {},
   "source": [
    "## Model 3: Transformer"
   ]
  },
  {
   "cell_type": "markdown",
   "metadata": {},
   "source": [
    "### Model Implementation"
   ]
  },
  {
   "cell_type": "code",
   "execution_count": 23,
   "metadata": {},
   "outputs": [
    {
     "name": "stdout",
     "output_type": "stream",
     "text": [
      "\n",
      "After preprocessing:\n",
      "x_train shape: (80000, 28, 28, 1)\n",
      "y_train shape: (80000,)\n",
      "x_val shape: (20000, 28, 28, 1)\n",
      "y_val shape: (20000,)\n",
      "x_test shape: (20000, 28, 28, 1)\n",
      "y_test shape: (20000,)\n"
     ]
    }
   ],
   "source": [
    "# Getting pre-processed data\n",
    "x_train_vit, y_train_vit, x_val_vit, y_val_vit, x_test_vit, y_test_vit = preprocess_data(x_train, y_train, x_test, y_test, one_hot_encode=False)"
   ]
  },
  {
   "cell_type": "code",
   "execution_count": 24,
   "metadata": {},
   "outputs": [],
   "source": [
    "# Implementation vision transformer\n",
    "class vit(Model):\n",
    "    def __init__(self, image_size, patch_size, num_classes, dim, depth, heads, mlp_dim, dropout):\n",
    "        super(vit, self).__init__()\n",
    "\n",
    "        # Calculate the total number of patches in the image\n",
    "        # If the image size is 28x28 and the patch size is 4, then num_patches = (28 // 4) ** 2 = 49\n",
    "        assert image_size % patch_size == 0, \"Image size must be divisible by patch size\"\n",
    "        num_patches = (image_size // patch_size) ** 2\n",
    "        patch_dim = patch_size * patch_size  # Number of pixels per patch\n",
    "\n",
    "        # Patch embedding layer: transforms each patch into a dim-dimensional feature vector\n",
    "        self.patch_embedding = layers.Dense(dim)\n",
    "        \n",
    "        # Location embedding for learning the relative position of each patch in the image\n",
    "        self.position_embedding = layers.Embedding(input_dim=num_patches + 1, output_dim=dim)\n",
    "        \n",
    "        # Classification token (class token) to indicate the class of the image; randomly initialised to a trainable variable\n",
    "        self.cls_token = tf.Variable(tf.zeros([1, 1, dim]), trainable=True)\n",
    "\n",
    "        # Transformer coding layers\n",
    "        # Each transformer layer contains a MultiHeadAttention mechanism, a Layer Normalisation Layer and an MLP Layer\n",
    "        # layers.MultiHeadAttention performs multi-head self-attention computation\n",
    "        self.transformer_layers = [\n",
    "            layers.MultiHeadAttention(num_heads=heads, key_dim=dim, dropout=dropout) for _ in range(depth)\n",
    "        ]\n",
    "        \n",
    "        # Layer normalisation before each transformer layer\n",
    "        self.norm_layers = [layers.LayerNormalization(epsilon=1e-6) for _ in range(depth)]\n",
    "        \n",
    "        # Small MLP networks behind each transformer layer\n",
    "        self.mlp_layers = [tf.keras.Sequential([\n",
    "            layers.Dense(mlp_dim, activation='relu'),  # Hidden Layers for MLP\n",
    "            layers.Dropout(dropout),                   # Dropout prevents overfitting\n",
    "            layers.Dense(dim),                         # Output to dim dimension for easy residual linking\n",
    "            layers.Dropout(dropout)\n",
    "        ]) for _ in range(depth)]\n",
    "\n",
    "        # Category header: output scores for each category\n",
    "        self.mlp_head = tf.keras.Sequential([\n",
    "            layers.LayerNormalization(epsilon=1e-6),   # Layer normalisation before output\n",
    "            layers.Dense(num_classes)                  # Output layer with dimension num_classes\n",
    "        ])\n",
    "\n",
    "    def call(self, x):\n",
    "        # Get batch size\n",
    "        batch_size = tf.shape(x)[0]\n",
    "        \n",
    "        # Divide the input image into patches\n",
    "        patches = tf.image.extract_patches(\n",
    "            images=x,\n",
    "            sizes=[1, 4, 4, 1],          \n",
    "            strides=[1, 4, 4, 1],        \n",
    "            rates=[1, 1, 1, 1],\n",
    "            padding='VALID'\n",
    "        )\n",
    "        patches = tf.reshape(patches, [batch_size, -1, 4 * 4])  # Flatten each patch into one dimension\n",
    "\n",
    "        # Apply patch embedding to transform each patch into a dim-dimensional feature vector\n",
    "        x = self.patch_embedding(patches)\n",
    "\n",
    "        # Extend the size of the classification markers to the batch\n",
    "        cls_tokens = tf.repeat(self.cls_token, repeats=batch_size, axis=0)\n",
    "        \n",
    "        # Splice classification markers in front of patch features\n",
    "        x = tf.concat([cls_tokens, x], axis=1)\n",
    "        \n",
    "        # Add positional embedding to indicate the relative position of each patch\n",
    "        positions = tf.range(start=0, limit=tf.shape(x)[1], delta=1)\n",
    "        x += self.position_embedding(positions)\n",
    "\n",
    "        # Transformer encoder part\n",
    "        # Each transformer layer undergoes a layer of normalisation, a multi-head attention mechanism, and an MLP layer\n",
    "        for norm_layer, transformer_layer, mlp_layer in zip(self.norm_layers, self.transformer_layers, self.mlp_layers):\n",
    "            x = norm_layer(x)\n",
    "            x = transformer_layer(x, x) + x\n",
    "            x = mlp_layer(x) + x\n",
    "\n",
    "        # Classification predictions using only classified labelled features\n",
    "        x = x[:, 0]  \n",
    "        return self.mlp_head(x)  \n",
    "    \n",
    "# Reference:\n",
    "# https://machinelearningmastery.com/implementing-the-transformer-encoder-from-scratch-in-tensorflow-and-keras/\n",
    "# https://blog.csdn.net/qq_37541097/article/details/118242600\n",
    "# https://github.com/WZMIAOMIAO/deep-learning-for-image-processing?tab=readme-ov-file\n"
   ]
  },
  {
   "cell_type": "code",
   "execution_count": 25,
   "metadata": {},
   "outputs": [],
   "source": [
    "# Construct the Vision Transformer model and compile it.\n",
    "def build_vit_model(image_size, patch_size, num_classes, dim, depth, heads, mlp_dim, dropout):\n",
    "    model = vit(image_size=image_size, \n",
    "                patch_size=patch_size, \n",
    "                num_classes=num_classes, \n",
    "                dim=dim, \n",
    "                depth=depth, \n",
    "                heads=heads, \n",
    "                mlp_dim=mlp_dim, \n",
    "                dropout=dropout)\n",
    "    \n",
    "    model.compile(optimizer=tf.keras.optimizers.Adam(learning_rate=1e-3),\n",
    "                  loss=tf.keras.losses.SparseCategoricalCrossentropy(from_logits=True),  \n",
    "                  metrics=['accuracy'])\n",
    "    return model\n",
    "\n",
    "# Reference:\n",
    "# https://www.tensorflow.org/api_docs/python/tf/keras/losses/SparseCategoricalCrossentropy"
   ]
  },
  {
   "cell_type": "code",
   "execution_count": 36,
   "metadata": {},
   "outputs": [
    {
     "name": "stdout",
     "output_type": "stream",
     "text": [
      "Epoch 1/10\n",
      "1250/1250 [==============================] - 16s 12ms/step - loss: 1.6962 - accuracy: 0.5297 - val_loss: 0.9745 - val_accuracy: 0.6914\n",
      "Epoch 2/10\n",
      "1250/1250 [==============================] - 14s 11ms/step - loss: 0.8824 - accuracy: 0.7218 - val_loss: 0.7341 - val_accuracy: 0.7558\n",
      "Epoch 3/10\n",
      "1250/1250 [==============================] - 14s 11ms/step - loss: 0.7293 - accuracy: 0.7622 - val_loss: 0.6431 - val_accuracy: 0.7834\n",
      "Epoch 4/10\n",
      "1250/1250 [==============================] - 14s 12ms/step - loss: 0.6610 - accuracy: 0.7789 - val_loss: 0.5986 - val_accuracy: 0.7959\n",
      "Epoch 5/10\n",
      "1250/1250 [==============================] - 14s 12ms/step - loss: 0.6166 - accuracy: 0.7910 - val_loss: 0.5891 - val_accuracy: 0.8002\n",
      "Epoch 6/10\n",
      "1250/1250 [==============================] - 14s 12ms/step - loss: 0.5898 - accuracy: 0.7994 - val_loss: 0.5534 - val_accuracy: 0.8086\n",
      "Epoch 7/10\n",
      "1250/1250 [==============================] - 15s 12ms/step - loss: 0.5580 - accuracy: 0.8069 - val_loss: 0.5446 - val_accuracy: 0.8105\n",
      "Epoch 8/10\n",
      "1250/1250 [==============================] - 15s 12ms/step - loss: 0.5429 - accuracy: 0.8123 - val_loss: 0.5118 - val_accuracy: 0.8192\n",
      "Epoch 9/10\n",
      "1250/1250 [==============================] - 15s 12ms/step - loss: 0.5288 - accuracy: 0.8158 - val_loss: 0.5481 - val_accuracy: 0.8092\n",
      "Epoch 10/10\n",
      "1250/1250 [==============================] - 15s 12ms/step - loss: 0.5162 - accuracy: 0.8186 - val_loss: 0.5146 - val_accuracy: 0.8203\n"
     ]
    },
    {
     "data": {
      "text/plain": [
       "<keras.callbacks.History at 0x2499e0f46a0>"
      ]
     },
     "execution_count": 36,
     "metadata": {},
     "output_type": "execute_result"
    }
   ],
   "source": [
    "# Model testing with given parameters\n",
    "test_model_vit = build_vit_model(image_size=28, patch_size=4, num_classes=num_classes, dim=64, depth=4, heads=4, mlp_dim=128, dropout=0.1)\n",
    "\n",
    "test_model_vit.fit(x_train_vit, y_train_vit, batch_size=64, epochs=10, validation_data=(x_val_vit, y_val_vit))"
   ]
  },
  {
   "cell_type": "code",
   "execution_count": 27,
   "metadata": {},
   "outputs": [
    {
     "name": "stdout",
     "output_type": "stream",
     "text": [
      "2500/2500 [==============================] - 16s 7ms/step - loss: 0.4356 - accuracy: 0.8430\n",
      "625/625 [==============================] - 4s 6ms/step - loss: 0.5005 - accuracy: 0.8255\n",
      "Train Loss: 0.4356, Train Accuracy: 0.8430\n",
      "Validation Loss: 0.5005, Validation Accuracy: 0.8255\n"
     ]
    }
   ],
   "source": [
    "# Display the results of the test\n",
    "train_loss_test_vit, train_accuracy_test_vit = test_model_vit.evaluate(x_train_vit, y_train_vit)\n",
    "val_loss_test_vit, val_accuracy_test_vit = test_model_vit.evaluate(x_val_vit, y_val_vit)\n",
    "\n",
    "print(f\"Train Loss: {train_loss_test_vit:.4f}, Train Accuracy: {train_accuracy_test_vit:.4f}\")\n",
    "print(f\"Validation Loss: {val_loss_test_vit:.4f}, Validation Accuracy: {val_accuracy_test_vit:.4f}\")"
   ]
  },
  {
   "cell_type": "markdown",
   "metadata": {},
   "source": [
    "### Hyperparameter Tunning"
   ]
  },
  {
   "cell_type": "code",
   "execution_count": 28,
   "metadata": {},
   "outputs": [
    {
     "name": "stderr",
     "output_type": "stream",
     "text": [
      "C:\\Users\\F0rR1ver\\AppData\\Local\\Temp\\ipykernel_30828\\1204293435.py:2: DeprecationWarning: KerasClassifier is deprecated, use Sci-Keras (https://github.com/adriangb/scikeras) instead. See https://www.adriangb.com/scikeras/stable/migration.html for help migrating.\n",
      "  model_vit = KerasClassifier(build_fn=build_vit_model, epochs=5, batch_size=64, verbose=0)\n"
     ]
    }
   ],
   "source": [
    "# Wrapping the build_vit_model function with KerasClassifier for compatibility with scikit-learn's RandomisedSearchCV\n",
    "model_vit = KerasClassifier(build_fn=build_vit_model, epochs=5, batch_size=64, verbose=0)\n",
    "\n",
    "# Defining the Hyperparameter\n",
    "param_dist_vit = {\n",
    "    'image_size': [28],\n",
    "    'patch_size': [2, 4, 7],\n",
    "    'num_classes':[62],\n",
    "    'dim': [32, 64, 128],\n",
    "    'depth': [4, 6, 8],\n",
    "    'heads': [4, 8],\n",
    "    'mlp_dim': [64, 128, 256],\n",
    "    'dropout': [0.1, 0.2, 0.3]\n",
    "}\n",
    "\n",
    "# Use Randomized Search + Cross-Validation\n",
    "random_search_vit = RandomizedSearchCV(\n",
    "    estimator=model_vit,\n",
    "    param_distributions=param_dist_vit,\n",
    "    n_iter=10,\n",
    "    scoring='accuracy',\n",
    "    cv=3\n",
    ")"
   ]
  },
  {
   "cell_type": "code",
   "execution_count": 29,
   "metadata": {},
   "outputs": [
    {
     "name": "stdout",
     "output_type": "stream",
     "text": [
      "834/834 [==============================] - 9s 10ms/step\n",
      "834/834 [==============================] - 8s 9ms/step\n",
      "834/834 [==============================] - 8s 9ms/step\n",
      "834/834 [==============================] - 7s 8ms/step\n",
      "834/834 [==============================] - 7s 8ms/step\n",
      "834/834 [==============================] - 7s 7ms/step\n",
      "834/834 [==============================] - 6s 7ms/step\n",
      "834/834 [==============================] - 6s 7ms/step\n",
      "834/834 [==============================] - 6s 7ms/step\n",
      "834/834 [==============================] - 8s 9ms/step\n",
      "834/834 [==============================] - 8s 9ms/step\n",
      "834/834 [==============================] - 8s 9ms/step\n",
      "834/834 [==============================] - 5s 5ms/step\n",
      "834/834 [==============================] - 5s 5ms/step\n",
      "834/834 [==============================] - 5s 5ms/step\n",
      "834/834 [==============================] - 8s 9ms/step\n",
      "834/834 [==============================] - 8s 9ms/step\n",
      "834/834 [==============================] - 8s 9ms/step\n",
      "834/834 [==============================] - 5s 6ms/step\n",
      "834/834 [==============================] - 5s 6ms/step\n",
      "834/834 [==============================] - 5s 6ms/step\n",
      "834/834 [==============================] - 7s 8ms/step\n",
      "834/834 [==============================] - 7s 7ms/step\n",
      "834/834 [==============================] - 7s 8ms/step\n",
      "834/834 [==============================] - 5s 5ms/step\n",
      "834/834 [==============================] - 5s 5ms/step\n",
      "834/834 [==============================] - 5s 5ms/step\n",
      "834/834 [==============================] - 7s 8ms/step\n",
      "834/834 [==============================] - 7s 8ms/step\n",
      "834/834 [==============================] - 7s 8ms/step\n",
      "Best Parameters: {'patch_size': 4, 'num_classes': 62, 'mlp_dim': 256, 'image_size': 28, 'heads': 4, 'dropout': 0.2, 'dim': 128, 'depth': 4}\n",
      "Best Score: 0.7580751247697082\n"
     ]
    }
   ],
   "source": [
    "random_search_vit.fit(x_train_vit, y_train_vit)\n",
    "\n",
    "print(\"Best Parameters:\", random_search_vit.best_params_)\n",
    "print(\"Best Score:\", random_search_vit.best_score_)"
   ]
  },
  {
   "cell_type": "code",
   "execution_count": 37,
   "metadata": {},
   "outputs": [
    {
     "name": "stdout",
     "output_type": "stream",
     "text": [
      "Epoch 1/30\n",
      "1250/1250 [==============================] - 18s 13ms/step - loss: 1.7103 - accuracy: 0.5199 - val_loss: 0.9820 - val_accuracy: 0.6979\n",
      "Epoch 2/30\n",
      "1250/1250 [==============================] - 16s 12ms/step - loss: 0.9670 - accuracy: 0.6944 - val_loss: 0.8064 - val_accuracy: 0.7350\n",
      "Epoch 3/30\n",
      "1250/1250 [==============================] - 16s 12ms/step - loss: 0.8297 - accuracy: 0.7324 - val_loss: 0.7275 - val_accuracy: 0.7541\n",
      "Epoch 4/30\n",
      "1250/1250 [==============================] - 16s 13ms/step - loss: 0.7532 - accuracy: 0.7538 - val_loss: 0.6667 - val_accuracy: 0.7769\n",
      "Epoch 5/30\n",
      "1250/1250 [==============================] - 16s 13ms/step - loss: 0.7055 - accuracy: 0.7670 - val_loss: 0.6529 - val_accuracy: 0.7789\n",
      "Epoch 6/30\n",
      "1250/1250 [==============================] - 16s 13ms/step - loss: 0.6678 - accuracy: 0.7766 - val_loss: 0.6884 - val_accuracy: 0.7728\n",
      "Epoch 7/30\n",
      "1250/1250 [==============================] - 16s 13ms/step - loss: 0.6357 - accuracy: 0.7854 - val_loss: 0.6331 - val_accuracy: 0.7890\n",
      "Epoch 8/30\n",
      "1250/1250 [==============================] - 16s 13ms/step - loss: 0.6113 - accuracy: 0.7937 - val_loss: 0.5940 - val_accuracy: 0.7979\n",
      "Epoch 9/30\n",
      "1250/1250 [==============================] - 16s 13ms/step - loss: 0.5901 - accuracy: 0.7984 - val_loss: 0.5547 - val_accuracy: 0.8116\n",
      "Epoch 10/30\n",
      "1250/1250 [==============================] - 17s 13ms/step - loss: 0.5754 - accuracy: 0.8034 - val_loss: 0.5875 - val_accuracy: 0.8013\n",
      "Epoch 11/30\n",
      "1250/1250 [==============================] - 17s 13ms/step - loss: 0.5686 - accuracy: 0.8028 - val_loss: 0.5526 - val_accuracy: 0.8095\n",
      "Epoch 12/30\n",
      "1250/1250 [==============================] - 16s 13ms/step - loss: 0.5508 - accuracy: 0.8094 - val_loss: 0.5264 - val_accuracy: 0.8193\n",
      "Epoch 13/30\n",
      "1250/1250 [==============================] - 16s 13ms/step - loss: 0.5358 - accuracy: 0.8134 - val_loss: 0.5297 - val_accuracy: 0.8122\n",
      "Epoch 14/30\n",
      "1250/1250 [==============================] - 17s 13ms/step - loss: 0.5267 - accuracy: 0.8173 - val_loss: 0.5251 - val_accuracy: 0.8142\n",
      "Epoch 15/30\n",
      "1250/1250 [==============================] - 16s 13ms/step - loss: 0.5171 - accuracy: 0.8195 - val_loss: 0.5329 - val_accuracy: 0.8148\n",
      "Epoch 16/30\n",
      "1250/1250 [==============================] - 17s 14ms/step - loss: 0.5109 - accuracy: 0.8204 - val_loss: 0.5016 - val_accuracy: 0.8247\n",
      "Epoch 17/30\n",
      "1250/1250 [==============================] - 16s 13ms/step - loss: 0.5022 - accuracy: 0.8239 - val_loss: 0.5069 - val_accuracy: 0.8220\n",
      "Epoch 18/30\n",
      "1250/1250 [==============================] - 17s 13ms/step - loss: 0.4937 - accuracy: 0.8254 - val_loss: 0.4995 - val_accuracy: 0.8253\n",
      "Epoch 19/30\n",
      "1250/1250 [==============================] - 17s 13ms/step - loss: 0.4878 - accuracy: 0.8263 - val_loss: 0.4908 - val_accuracy: 0.8284\n",
      "Epoch 20/30\n",
      "1250/1250 [==============================] - 16s 13ms/step - loss: 0.4802 - accuracy: 0.8292 - val_loss: 0.4676 - val_accuracy: 0.8339\n",
      "Epoch 21/30\n",
      "1250/1250 [==============================] - 16s 13ms/step - loss: 0.4757 - accuracy: 0.8305 - val_loss: 0.4842 - val_accuracy: 0.8335\n",
      "Epoch 22/30\n",
      "1250/1250 [==============================] - 16s 13ms/step - loss: 0.4722 - accuracy: 0.8309 - val_loss: 0.5037 - val_accuracy: 0.8224\n",
      "Epoch 23/30\n",
      "1250/1250 [==============================] - 16s 13ms/step - loss: 0.4647 - accuracy: 0.8334 - val_loss: 0.4828 - val_accuracy: 0.8290\n",
      "Epoch 24/30\n",
      "1250/1250 [==============================] - 16s 13ms/step - loss: 0.4642 - accuracy: 0.8331 - val_loss: 0.4768 - val_accuracy: 0.8313\n",
      "Epoch 25/30\n",
      "1250/1250 [==============================] - 17s 14ms/step - loss: 0.4573 - accuracy: 0.8353 - val_loss: 0.4806 - val_accuracy: 0.8310\n",
      "Epoch 26/30\n",
      "1250/1250 [==============================] - 16s 13ms/step - loss: 0.4532 - accuracy: 0.8363 - val_loss: 0.4734 - val_accuracy: 0.8307\n",
      "Epoch 27/30\n",
      "1250/1250 [==============================] - 16s 13ms/step - loss: 0.4484 - accuracy: 0.8383 - val_loss: 0.4760 - val_accuracy: 0.8339\n",
      "Epoch 28/30\n",
      "1250/1250 [==============================] - 16s 13ms/step - loss: 0.4441 - accuracy: 0.8397 - val_loss: 0.4755 - val_accuracy: 0.8339\n",
      "Epoch 29/30\n",
      "1250/1250 [==============================] - 17s 14ms/step - loss: 0.4403 - accuracy: 0.8396 - val_loss: 0.4920 - val_accuracy: 0.8253\n",
      "Epoch 30/30\n",
      "1250/1250 [==============================] - 17s 13ms/step - loss: 0.4405 - accuracy: 0.8390 - val_loss: 0.4965 - val_accuracy: 0.8243\n"
     ]
    }
   ],
   "source": [
    "best_params_vit = {'patch_size': 4, 'num_classes': 62, 'mlp_dim': 256, 'image_size': 28, 'heads': 4, 'dropout': 0.2, 'dim': 128, 'depth': 4}\n",
    "\n",
    "# Create a new model with the best parameters\n",
    "final_model_vit = build_vit_model(\n",
    "    image_size=best_params_vit['image_size'],\n",
    "    patch_size=best_params_vit['patch_size'],\n",
    "    num_classes=best_params_vit['num_classes'],\n",
    "    dim=best_params_vit['dim'],\n",
    "    depth=best_params_vit['depth'],\n",
    "    heads=best_params_vit['heads'],\n",
    "    mlp_dim=best_params_vit['mlp_dim'],\n",
    "    dropout=best_params_vit['dropout']\n",
    ")\n",
    "\n",
    "# Train the model with the training data\n",
    "history_vit = final_model_vit.fit(\n",
    "    x_train_vit, y_train_vit,\n",
    "    batch_size=64,\n",
    "    epochs=30,  \n",
    "    validation_data=(x_val_vit, y_val_vit)\n",
    ")"
   ]
  }
 ],
 "metadata": {
  "kernelspec": {
   "display_name": "MachineLearning",
   "language": "python",
   "name": "python3"
  },
  "language_info": {
   "codemirror_mode": {
    "name": "ipython",
    "version": 3
   },
   "file_extension": ".py",
   "mimetype": "text/x-python",
   "name": "python",
   "nbconvert_exporter": "python",
   "pygments_lexer": "ipython3",
   "version": "3.8.20"
  }
 },
 "nbformat": 4,
 "nbformat_minor": 2
}
