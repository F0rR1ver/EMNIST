{
 "cells": [
  {
   "cell_type": "markdown",
   "metadata": {},
   "source": [
    "# Setup"
   ]
  },
  {
   "cell_type": "code",
   "execution_count": 1,
   "metadata": {},
   "outputs": [],
   "source": [
    "import pickle\n",
    "import matplotlib.pyplot as plt\n",
    "import numpy as np\n",
    "import tensorflow as tf\n",
    "from sklearn.model_selection import train_test_split\n",
    "from sklearn.preprocessing import LabelEncoder\n",
    "from tensorflow.keras import layers, Model\n",
    "from sklearn.model_selection import RandomizedSearchCV\n",
    "from tensorflow.keras.wrappers.scikit_learn import KerasClassifier\n",
    "from tensorflow.keras.utils import to_categorical"
   ]
  },
  {
   "cell_type": "markdown",
   "metadata": {},
   "source": [
    "# Data loading"
   ]
  },
  {
   "cell_type": "code",
   "execution_count": 2,
   "metadata": {},
   "outputs": [
    {
     "name": "stdout",
     "output_type": "stream",
     "text": [
      "Training data: (100000, 28, 28)\n",
      "Training labels: (100000,)\n",
      "Test data: (20000, 28, 28)\n",
      "Test labels: (20000,)\n"
     ]
    }
   ],
   "source": [
    "# Loading training and test data\n",
    "with open('data/emnist_train.pkl', 'rb') as f:\n",
    "    train_data = pickle.load(f)\n",
    "with open('data/emnist_test.pkl', 'rb') as f:\n",
    "    test_data = pickle.load(f)\n",
    "\n",
    "x_train = train_data['data']\n",
    "y_train = train_data['labels']\n",
    "\n",
    "x_test = test_data['data']\n",
    "y_test = test_data['labels']\n",
    "\n",
    "print(\"Training data:\", x_train.shape)\n",
    "print(\"Training labels:\", y_train.shape)\n",
    "print(\"Test data:\", x_test.shape)\n",
    "print(\"Test labels:\", y_test.shape)"
   ]
  },
  {
   "cell_type": "code",
   "execution_count": 3,
   "metadata": {},
   "outputs": [
    {
     "data": {
      "image/png": "[encoded data removed]",
      "text/plain": [
       "<Figure size 1000x500 with 10 Axes>"
      ]
     },
     "metadata": {},
     "output_type": "display_data"
    }
   ],
   "source": [
    "# show some data\n",
    "fig, axes = plt.subplots(2, 5, figsize=(10, 5))  # 2 rows and 5 columns displaying 10 images\n",
    "\n",
    "for i, ax in enumerate(axes.flat):\n",
    "    ax.imshow(x_train[i], cmap='gray')  # Display the ith image, using greyscale colour mapping\n",
    "    ax.set_title(f\"Label: {y_train[i]}\")  # Showing corresponding tags\n",
    "    ax.axis('off')  # no axes\n",
    "\n",
    "plt.tight_layout()  \n",
    "plt.show() "
   ]
  },
  {
   "cell_type": "markdown",
   "metadata": {},
   "source": [
    "# pre-processing"
   ]
  },
  {
   "cell_type": "code",
   "execution_count": 4,
   "metadata": {},
   "outputs": [
    {
     "name": "stdout",
     "output_type": "stream",
     "text": [
      "Training sets: (80000, 28, 28, 1)\n",
      "Validation sets: (20000, 28, 28, 1)\n"
     ]
    }
   ],
   "source": [
    "# 1. Normalize the training and test data \n",
    "x_train = x_train / 255.0\n",
    "x_test = x_test / 255.0\n",
    "\n",
    "# 2. Reshape training and test data for grayscale\n",
    "x_train = x_train.reshape(-1, 28, 28, 1)\n",
    "x_test = x_test.reshape(-1, 28, 28, 1)\n",
    "\n",
    "# 3. split the data into training and validation sets\n",
    "x_train, x_val, y_train, y_val = train_test_split(x_train, y_train, test_size=0.2, random_state=42)\n",
    "\n",
    "# show the results\n",
    "print(f\"Training sets: {x_train.shape}\")\n",
    "print(f\"Validation sets: {x_val.shape}\")\n"
   ]
  },
  {
   "cell_type": "markdown",
   "metadata": {},
   "source": [
    "# Model Implementation"
   ]
  },
  {
   "cell_type": "code",
   "execution_count": 5,
   "metadata": {},
   "outputs": [],
   "source": [
    "class vit(Model):\n",
    "    def __init__(self, image_size, patch_size, num_classes, dim, depth, heads, mlp_dim, dropout):\n",
    "        super(vit, self).__init__()\n",
    "\n",
    "        assert image_size % patch_size == 0, \"Image size must be divisible by patch size\"\n",
    "        num_patches = (image_size // patch_size) ** 2\n",
    "        patch_dim = patch_size * patch_size\n",
    "\n",
    "        # Layers for patch embedding\n",
    "        self.patch_embedding = layers.Dense(dim)\n",
    "        self.position_embedding = layers.Embedding(input_dim=num_patches + 1, output_dim=dim)\n",
    "        self.cls_token = tf.Variable(tf.zeros([1, 1, dim]), trainable=True)\n",
    "\n",
    "        # Transformer layers\n",
    "        self.transformer_layers = [\n",
    "            layers.MultiHeadAttention(num_heads=heads, key_dim=dim, dropout=dropout) for _ in range(depth)\n",
    "        ]\n",
    "        self.norm_layers = [layers.LayerNormalization(epsilon=1e-6) for _ in range(depth)]\n",
    "        self.mlp_layers = [tf.keras.Sequential([\n",
    "            layers.Dense(mlp_dim, activation='relu'),\n",
    "            layers.Dropout(dropout),\n",
    "            layers.Dense(dim),\n",
    "            layers.Dropout(dropout)\n",
    "        ]) for _ in range(depth)]\n",
    "\n",
    "        # Classification head\n",
    "        self.mlp_head = tf.keras.Sequential([\n",
    "            layers.LayerNormalization(epsilon=1e-6),\n",
    "            layers.Dense(num_classes)\n",
    "        ])\n",
    "\n",
    "    def call(self, x):\n",
    "        # Create patches\n",
    "        batch_size = tf.shape(x)[0]\n",
    "        patches = tf.image.extract_patches(\n",
    "            images=x,\n",
    "            sizes=[1, 4, 4, 1],\n",
    "            strides=[1, 4, 4, 1],\n",
    "            rates=[1, 1, 1, 1],\n",
    "            padding='VALID'\n",
    "        )\n",
    "        patches = tf.reshape(patches, [batch_size, -1, 4 * 4])  # Flatten patches\n",
    "\n",
    "        # Apply patch embedding\n",
    "        x = self.patch_embedding(patches)\n",
    "\n",
    "        # Add class token and position embedding\n",
    "        cls_tokens = tf.repeat(self.cls_token, repeats=batch_size, axis=0)\n",
    "        x = tf.concat([cls_tokens, x], axis=1)\n",
    "        positions = tf.range(start=0, limit=tf.shape(x)[1], delta=1)\n",
    "        x += self.position_embedding(positions)\n",
    "\n",
    "        # Transformer blocks\n",
    "        for norm_layer, transformer_layer, mlp_layer in zip(self.norm_layers, self.transformer_layers, self.mlp_layers):\n",
    "            x = norm_layer(x)\n",
    "            x = transformer_layer(x, x) + x\n",
    "            x = mlp_layer(x) + x\n",
    "\n",
    "        # Classification token\n",
    "        x = x[:, 0]\n",
    "        return self.mlp_head(x)\n",
    "\n"
   ]
  },
  {
   "cell_type": "code",
   "execution_count": 9,
   "metadata": {},
   "outputs": [],
   "source": [
    "def build_vit_model(image_size, patch_size, num_classes, dim, depth, heads, mlp_dim, dropout):\n",
    "    model = vit(image_size=image_size, \n",
    "                patch_size=patch_size, \n",
    "                num_classes=num_classes, \n",
    "                dim=dim, \n",
    "                depth=depth, \n",
    "                heads=heads, \n",
    "                mlp_dim=mlp_dim, \n",
    "                dropout=dropout)\n",
    "    \n",
    "    model.compile(optimizer=tf.keras.optimizers.Adam(learning_rate=1e-3),\n",
    "                  loss=tf.keras.losses.SparseCategoricalCrossentropy(from_logits=True),  \n",
    "                  metrics=['accuracy'])\n",
    "    return model\n",
    "    "
   ]
  },
  {
   "cell_type": "code",
   "execution_count": 10,
   "metadata": {},
   "outputs": [
    {
     "name": "stdout",
     "output_type": "stream",
     "text": [
      "Epoch 1/10\n",
      "1250/1250 [==============================] - 18s 13ms/step - loss: 1.6305 - accuracy: 0.5465 - val_loss: 0.9494 - val_accuracy: 0.7034\n",
      "Epoch 2/10\n",
      "1250/1250 [==============================] - 16s 13ms/step - loss: 0.8701 - accuracy: 0.7234 - val_loss: 0.7018 - val_accuracy: 0.7618\n",
      "Epoch 3/10\n",
      "1250/1250 [==============================] - 16s 12ms/step - loss: 0.7227 - accuracy: 0.7623 - val_loss: 0.6350 - val_accuracy: 0.7838\n",
      "Epoch 4/10\n",
      "1250/1250 [==============================] - 16s 13ms/step - loss: 0.6541 - accuracy: 0.7793 - val_loss: 0.5900 - val_accuracy: 0.7931\n",
      "Epoch 5/10\n",
      "1250/1250 [==============================] - 16s 13ms/step - loss: 0.6098 - accuracy: 0.7925 - val_loss: 0.5809 - val_accuracy: 0.7982\n",
      "Epoch 6/10\n",
      "1250/1250 [==============================] - 16s 13ms/step - loss: 0.5786 - accuracy: 0.8012 - val_loss: 0.5412 - val_accuracy: 0.8121\n",
      "Epoch 7/10\n",
      "1250/1250 [==============================] - 17s 13ms/step - loss: 0.5527 - accuracy: 0.8093 - val_loss: 0.5472 - val_accuracy: 0.8085\n",
      "Epoch 8/10\n",
      "1250/1250 [==============================] - 17s 13ms/step - loss: 0.5348 - accuracy: 0.8140 - val_loss: 0.5286 - val_accuracy: 0.8184\n",
      "Epoch 9/10\n",
      "1250/1250 [==============================] - 17s 13ms/step - loss: 0.5180 - accuracy: 0.8190 - val_loss: 0.5245 - val_accuracy: 0.8155\n",
      "Epoch 10/10\n",
      "1250/1250 [==============================] - 18s 14ms/step - loss: 0.5076 - accuracy: 0.8201 - val_loss: 0.5108 - val_accuracy: 0.8225\n"
     ]
    },
    {
     "data": {
      "text/plain": [
       "<keras.callbacks.History at 0x195a4d3ed90>"
      ]
     },
     "execution_count": 10,
     "metadata": {},
     "output_type": "execute_result"
    }
   ],
   "source": [
    "num_classes = len(set(y_train))\n",
    "test_model = build_vit_model(image_size=28, patch_size=4, num_classes=num_classes, dim=64, depth=4, heads=4, mlp_dim=128, dropout=0.1)\n",
    "\n",
    "test_model.fit(x_train, y_train, batch_size=64, epochs=10, validation_data=(x_val, y_val))\n"
   ]
  },
  {
   "cell_type": "code",
   "execution_count": 11,
   "metadata": {},
   "outputs": [
    {
     "name": "stdout",
     "output_type": "stream",
     "text": [
      "2500/2500 [==============================] - 17s 7ms/step - loss: 0.4515 - accuracy: 0.8377\n",
      "625/625 [==============================] - 4s 6ms/step - loss: 0.5108 - accuracy: 0.8225\n",
      "Train Loss: 0.4515, Train Accuracy: 0.8377\n",
      "Validation Loss: 0.5108, Validation Accuracy: 0.8225\n"
     ]
    }
   ],
   "source": [
    "train_loss, train_accuracy = test_model.evaluate(x_train, y_train)\n",
    "val_loss, val_accuracy = test_model.evaluate(x_val, y_val)\n",
    "\n",
    "print(f\"Train Loss: {train_loss:.4f}, Train Accuracy: {train_accuracy:.4f}\")\n",
    "print(f\"Validation Loss: {val_loss:.4f}, Validation Accuracy: {val_accuracy:.4f}\")"
   ]
  },
  {
   "cell_type": "markdown",
   "metadata": {},
   "source": [
    "# Hyperparameter Tunning"
   ]
  },
  {
   "cell_type": "code",
   "execution_count": 16,
   "metadata": {},
   "outputs": [
    {
     "name": "stderr",
     "output_type": "stream",
     "text": [
      "C:\\Users\\F0rR1ver\\AppData\\Local\\Temp\\ipykernel_540\\3519229459.py:1: DeprecationWarning: KerasClassifier is deprecated, use Sci-Keras (https://github.com/adriangb/scikeras) instead. See https://www.adriangb.com/scikeras/stable/migration.html for help migrating.\n",
      "  model = KerasClassifier(build_fn=build_vit_model, epochs=5, batch_size=64, verbose=0)\n"
     ]
    }
   ],
   "source": [
    "model = KerasClassifier(build_fn=build_vit_model, epochs=5, batch_size=64, verbose=0)\n",
    "param_dist = {\n",
    "    'image_size': [28],\n",
    "    'patch_size': [2, 4, 7],\n",
    "    'num_classes':[62],\n",
    "    'dim': [32, 64, 128],\n",
    "    'depth': [4, 6, 8],\n",
    "    'heads': [4, 8],\n",
    "    'mlp_dim': [64, 128, 256],\n",
    "    'dropout': [0.1, 0.2, 0.3]\n",
    "}\n",
    "\n",
    "random_search = RandomizedSearchCV(\n",
    "    estimator=model,\n",
    "    param_distributions=param_dist,\n",
    "    n_iter=10,\n",
    "    scoring='accuracy',\n",
    "    cv=3\n",
    ")"
   ]
  },
  {
   "cell_type": "code",
   "execution_count": 17,
   "metadata": {},
   "outputs": [
    {
     "name": "stdout",
     "output_type": "stream",
     "text": [
      "834/834 [==============================] - 8s 10ms/step\n",
      "834/834 [==============================] - 8s 9ms/step\n",
      "834/834 [==============================] - 8s 10ms/step\n",
      "834/834 [==============================] - 9s 10ms/step\n",
      "834/834 [==============================] - 9s 10ms/step\n",
      "834/834 [==============================] - 9s 10ms/step\n",
      "834/834 [==============================] - 5s 6ms/step\n",
      "834/834 [==============================] - 5s 6ms/step\n",
      "834/834 [==============================] - 5s 5ms/step\n",
      "834/834 [==============================] - 9s 11ms/step\n",
      "834/834 [==============================] - 9s 10ms/step\n",
      "834/834 [==============================] - 9s 10ms/step\n",
      "834/834 [==============================] - 5s 6ms/step\n",
      "834/834 [==============================] - 6s 6ms/step\n",
      "834/834 [==============================] - 6s 6ms/step\n",
      "834/834 [==============================] - 7s 8ms/step\n",
      "834/834 [==============================] - 7s 8ms/step\n",
      "834/834 [==============================] - 7s 8ms/step\n",
      "834/834 [==============================] - 5s 6ms/step\n",
      "834/834 [==============================] - 5s 6ms/step\n",
      "834/834 [==============================] - 5s 6ms/step\n",
      "834/834 [==============================] - 10s 11ms/step\n",
      "834/834 [==============================] - 10s 11ms/step\n",
      "834/834 [==============================] - 10s 11ms/step\n",
      "834/834 [==============================] - 9s 10ms/step\n",
      "834/834 [==============================] - 9s 10ms/step\n",
      "834/834 [==============================] - 9s 10ms/step\n",
      "834/834 [==============================] - 9s 10ms/step\n",
      "834/834 [==============================] - 9s 10ms/step\n",
      "834/834 [==============================] - 9s 10ms/step\n",
      "Best Parameters: {'patch_size': 2, 'num_classes': 62, 'mlp_dim': 256, 'image_size': 28, 'heads': 8, 'dropout': 0.3, 'dim': 32, 'depth': 4}\n",
      "Best Score: 0.7638999408629794\n"
     ]
    }
   ],
   "source": [
    "random_search.fit(x_train, y_train)\n",
    "\n",
    "print(\"Best Parameters:\", random_search.best_params_)\n",
    "print(\"Best Score:\", random_search.best_score_)"
   ]
  },
  {
   "cell_type": "code",
   "execution_count": 25,
   "metadata": {},
   "outputs": [
    {
     "name": "stdout",
     "output_type": "stream",
     "text": [
      "Epoch 1/30\n",
      "1250/1250 [==============================] - 19s 14ms/step - loss: 2.2822 - accuracy: 0.3882 - val_loss: 1.4381 - val_accuracy: 0.5849\n",
      "Epoch 2/30\n",
      "1250/1250 [==============================] - 17s 14ms/step - loss: 1.2029 - accuracy: 0.6377 - val_loss: 0.9884 - val_accuracy: 0.6879\n",
      "Epoch 3/30\n",
      "1250/1250 [==============================] - 16s 13ms/step - loss: 0.9307 - accuracy: 0.7055 - val_loss: 0.8186 - val_accuracy: 0.7333\n",
      "Epoch 4/30\n",
      "1250/1250 [==============================] - 16s 13ms/step - loss: 0.8052 - accuracy: 0.7406 - val_loss: 0.7162 - val_accuracy: 0.7639\n",
      "Epoch 5/30\n",
      "1250/1250 [==============================] - 17s 14ms/step - loss: 0.7346 - accuracy: 0.7613 - val_loss: 0.6948 - val_accuracy: 0.7672\n",
      "Epoch 6/30\n",
      "1250/1250 [==============================] - 18s 14ms/step - loss: 0.6851 - accuracy: 0.7737 - val_loss: 0.6594 - val_accuracy: 0.7822\n",
      "Epoch 7/30\n",
      "1250/1250 [==============================] - 18s 14ms/step - loss: 0.6489 - accuracy: 0.7832 - val_loss: 0.6275 - val_accuracy: 0.7900\n",
      "Epoch 8/30\n",
      "1250/1250 [==============================] - 19s 15ms/step - loss: 0.6275 - accuracy: 0.7889 - val_loss: 0.5797 - val_accuracy: 0.8019\n",
      "Epoch 9/30\n",
      "1250/1250 [==============================] - 19s 15ms/step - loss: 0.6042 - accuracy: 0.7948 - val_loss: 0.5872 - val_accuracy: 0.7993\n",
      "Epoch 10/30\n",
      "1250/1250 [==============================] - 18s 14ms/step - loss: 0.5869 - accuracy: 0.7998 - val_loss: 0.5659 - val_accuracy: 0.8058\n",
      "Epoch 11/30\n",
      "1250/1250 [==============================] - 17s 14ms/step - loss: 0.5701 - accuracy: 0.8041 - val_loss: 0.5643 - val_accuracy: 0.8033\n",
      "Epoch 12/30\n",
      "1250/1250 [==============================] - 17s 14ms/step - loss: 0.5540 - accuracy: 0.8095 - val_loss: 0.5446 - val_accuracy: 0.8140\n",
      "Epoch 13/30\n",
      "1250/1250 [==============================] - 18s 14ms/step - loss: 0.5447 - accuracy: 0.8109 - val_loss: 0.5547 - val_accuracy: 0.8081\n",
      "Epoch 14/30\n",
      "1250/1250 [==============================] - 17s 14ms/step - loss: 0.5330 - accuracy: 0.8142 - val_loss: 0.5401 - val_accuracy: 0.8097\n",
      "Epoch 15/30\n",
      "1250/1250 [==============================] - 17s 14ms/step - loss: 0.5227 - accuracy: 0.8171 - val_loss: 0.5384 - val_accuracy: 0.8131\n",
      "Epoch 16/30\n",
      "1250/1250 [==============================] - 17s 14ms/step - loss: 0.5159 - accuracy: 0.8181 - val_loss: 0.5188 - val_accuracy: 0.8191\n",
      "Epoch 17/30\n",
      "1250/1250 [==============================] - 18s 14ms/step - loss: 0.5098 - accuracy: 0.8203 - val_loss: 0.5374 - val_accuracy: 0.8160\n",
      "Epoch 18/30\n",
      "1250/1250 [==============================] - 18s 15ms/step - loss: 0.5018 - accuracy: 0.8214 - val_loss: 0.5383 - val_accuracy: 0.8160\n",
      "Epoch 19/30\n",
      "1250/1250 [==============================] - 16s 13ms/step - loss: 0.4925 - accuracy: 0.8249 - val_loss: 0.5219 - val_accuracy: 0.8142\n",
      "Epoch 20/30\n",
      "1250/1250 [==============================] - 18s 15ms/step - loss: 0.4864 - accuracy: 0.8256 - val_loss: 0.5024 - val_accuracy: 0.8249\n",
      "Epoch 21/30\n",
      "1250/1250 [==============================] - 18s 14ms/step - loss: 0.4825 - accuracy: 0.8277 - val_loss: 0.4967 - val_accuracy: 0.8253\n",
      "Epoch 22/30\n",
      "1250/1250 [==============================] - 18s 14ms/step - loss: 0.4766 - accuracy: 0.8295 - val_loss: 0.5042 - val_accuracy: 0.8242\n",
      "Epoch 23/30\n",
      "1250/1250 [==============================] - 17s 13ms/step - loss: 0.4729 - accuracy: 0.8295 - val_loss: 0.4941 - val_accuracy: 0.8238\n",
      "Epoch 24/30\n",
      "1250/1250 [==============================] - 17s 13ms/step - loss: 0.4681 - accuracy: 0.8313 - val_loss: 0.5062 - val_accuracy: 0.8231\n",
      "Epoch 25/30\n",
      "1250/1250 [==============================] - 18s 14ms/step - loss: 0.4616 - accuracy: 0.8327 - val_loss: 0.4976 - val_accuracy: 0.8245\n",
      "Epoch 26/30\n",
      "1250/1250 [==============================] - 17s 14ms/step - loss: 0.4608 - accuracy: 0.8334 - val_loss: 0.4899 - val_accuracy: 0.8257\n",
      "Epoch 27/30\n",
      "1250/1250 [==============================] - 18s 15ms/step - loss: 0.4540 - accuracy: 0.8343 - val_loss: 0.5074 - val_accuracy: 0.8239\n",
      "Epoch 28/30\n",
      "1250/1250 [==============================] - 18s 15ms/step - loss: 0.4503 - accuracy: 0.8356 - val_loss: 0.4979 - val_accuracy: 0.8247\n",
      "Epoch 29/30\n",
      "1250/1250 [==============================] - 17s 13ms/step - loss: 0.4452 - accuracy: 0.8363 - val_loss: 0.5043 - val_accuracy: 0.8249\n",
      "Epoch 30/30\n",
      "1250/1250 [==============================] - 17s 13ms/step - loss: 0.4431 - accuracy: 0.8382 - val_loss: 0.4988 - val_accuracy: 0.8248\n",
      "625/625 [==============================] - 5s 7ms/step - loss: 0.5029 - accuracy: 0.8264\n",
      "Test Loss: 0.5029, Test Accuracy: 0.8264\n"
     ]
    }
   ],
   "source": [
    "best_params = {'patch_size': 2, 'num_classes': 62, 'mlp_dim': 256, 'image_size': 28, 'heads': 8, 'dropout': 0.3, 'dim': 32, 'depth': 4}\n",
    "\n",
    "final_model = build_vit_model(\n",
    "    image_size=best_params['image_size'],\n",
    "    patch_size=best_params['patch_size'],\n",
    "    num_classes=best_params['num_classes'],\n",
    "    dim=best_params['dim'],\n",
    "    depth=best_params['depth'],\n",
    "    heads=best_params['heads'],\n",
    "    mlp_dim=best_params['mlp_dim'],\n",
    "    dropout=best_params['dropout']\n",
    ")\n",
    "\n",
    "history = final_model.fit(\n",
    "    x_train, y_train,\n",
    "    batch_size=64,\n",
    "    epochs=30,  \n",
    "    validation_data=(x_val, y_val)\n",
    ")\n",
    "\n",
    "test_loss, test_accuracy = final_model.evaluate(x_test, y_test)\n",
    "print(f\"Test Loss: {test_loss:.4f}, Test Accuracy: {test_accuracy:.4f}\")"
   ]
  },
  {
   "cell_type": "code",
   "execution_count": 26,
   "metadata": {},
   "outputs": [
    {
     "data": {
      "image/png": "[encoded data removed]",
      "text/plain": [
       "<Figure size 1200x500 with 2 Axes>"
      ]
     },
     "metadata": {},
     "output_type": "display_data"
    }
   ],
   "source": [
    "def plot_history(history):\n",
    "    plt.figure(figsize=(12, 5))\n",
    "    plt.subplot(1, 2, 1)\n",
    "    plt.plot(history.history['loss'], label='Training Loss')\n",
    "    plt.plot(history.history['val_loss'], label='Validation Loss')\n",
    "    plt.xlabel('Epochs')\n",
    "    plt.ylabel('Loss')\n",
    "    plt.legend()\n",
    "    plt.title('Training and Validation Loss')\n",
    "\n",
    "    plt.subplot(1, 2, 2)\n",
    "    plt.plot(history.history['accuracy'], label='Training Accuracy')\n",
    "    plt.plot(history.history['val_accuracy'], label='Validation Accuracy')\n",
    "    plt.xlabel('Epochs')\n",
    "    plt.ylabel('Accuracy')\n",
    "    plt.legend()\n",
    "    plt.title('Training and Validation Accuracy')\n",
    "    \n",
    "    plt.show()\n",
    "\n",
    "plot_history(history)\n"
   ]
  },
  {
   "cell_type": "code",
   "execution_count": 28,
   "metadata": {},
   "outputs": [
    {
     "name": "stdout",
     "output_type": "stream",
     "text": [
      "625/625 [==============================] - 2s 3ms/step\n",
      "ViT Test Accuracy: 0.8264\n"
     ]
    }
   ],
   "source": [
    "from sklearn.metrics import accuracy_score\n",
    "# 使用最佳参数训练好的模型对测试集进行预测\n",
    "y_pred_vit = final_model.predict(x_test)\n",
    "\n",
    "# 获取预测类别\n",
    "y_pred_vit_classes = np.argmax(y_pred_vit, axis=1)\n",
    "\n",
    "# 将测试标签转换为类别形式（整数标签）\n",
    "y_test_classes = y_test  # 如果 y_test 已经是整数标签\n",
    "\n",
    "# 计算准确率\n",
    "accuracy_vit = accuracy_score(y_test_classes, y_pred_vit_classes)\n",
    "print(f\"ViT Test Accuracy: {accuracy_vit:.4f}\")"
   ]
  }
 ],
 "metadata": {
  "kernelspec": {
   "display_name": "MachineLearning",
   "language": "python",
   "name": "python3"
  },
  "language_info": {
   "codemirror_mode": {
    "name": "ipython",
    "version": 3
   },
   "file_extension": ".py",
   "mimetype": "text/x-python",
   "name": "python",
   "nbconvert_exporter": "python",
   "pygments_lexer": "ipython3",
   "version": "3.8.20"
  }
 },
 "nbformat": 4,
 "nbformat_minor": 2
}
